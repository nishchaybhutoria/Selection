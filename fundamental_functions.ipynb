{
 "cells": [
  {
   "cell_type": "markdown",
   "metadata": {},
   "source": [
    "# Implementing the Fundamental Functions"
   ]
  },
  {
   "cell_type": "code",
   "execution_count": 28,
   "metadata": {},
   "outputs": [],
   "source": [
    "import matplotlib.pyplot as plt\n",
    "import numpy as np\n",
    "import random\n",
    "from shapely.geometry import box\n",
    "import supervision as sv\n",
    "\n",
    "%matplotlib inline"
   ]
  },
  {
   "cell_type": "markdown",
   "metadata": {},
   "source": [
    "## 1. IoU (Intersection over Union) between two axis-aligned bounding boxes specified in the Ultralytics YOLO format"
   ]
  },
  {
   "cell_type": "markdown",
   "metadata": {},
   "source": [
    "### Implementing IoU with Shapely and Supervision"
   ]
  },
  {
   "cell_type": "code",
   "execution_count": 29,
   "metadata": {},
   "outputs": [],
   "source": [
    "def yolo_to_xyxy(bbox):\n",
    "    x, y, w, h = bbox\n",
    "    return [x - w / 2, y - h / 2, x + w / 2, y + h / 2]\n",
    "\n",
    "# calculating IoU with shapely\n",
    "def iou_shapely(box1, box2):\n",
    "    # box takes (minx, miny, maxx, maxy), so unpack the values from yolo format\n",
    "    box1_xyxy = box(*yolo_to_xyxy(box1))\n",
    "    box2_xyxy = box(*yolo_to_xyxy(box2))\n",
    "\n",
    "    intersection = box1_xyxy.intersection(box2_xyxy).area\n",
    "    union = box1_xyxy.union(box2_xyxy).area\n",
    "\n",
    "    return intersection / union if union > 0 else 0\n",
    "\n",
    "# calculating IoU with supervision\n",
    "def iou_supervision(box1, box2):\n",
    "    # box_iou_batch takes a batch of boxes as a numpy array\n",
    "    box1_xyxy = np.array([yolo_to_xyxy(box1)])\n",
    "    box2_xyxy = np.array([yolo_to_xyxy(box2)])\n",
    "\n",
    "    return sv.box_iou_batch(box1_xyxy, box2_xyxy)[0][0]"
   ]
  },
  {
   "cell_type": "markdown",
   "metadata": {},
   "source": [
    "### Showing that IoU with Shapely and Supervision are equivalent"
   ]
  },
  {
   "cell_type": "code",
   "execution_count": 65,
   "metadata": {},
   "outputs": [
    {
     "name": "stdout",
     "output_type": "stream",
     "text": [
      "YOLO Box 1: (254, 96, 179, 170), YOLO Box 2: (247, 189, 178, 166)\n",
      "IoU (Shapely): 0.2730, IoU (Supervision): 0.2730\n",
      "Difference: 0.000000\n",
      "--------------------------------------------------\n",
      "YOLO Box 1: (316, 266, 157, 151), YOLO Box 2: (303, 254, 160, 181)\n",
      "IoU (Shapely): 0.7157, IoU (Supervision): 0.7157\n",
      "Difference: 0.000000\n",
      "--------------------------------------------------\n",
      "YOLO Box 1: (145, 289, 156, 188), YOLO Box 2: (293, 199, 164, 173)\n",
      "IoU (Shapely): 0.0192, IoU (Supervision): 0.0192\n",
      "Difference: 0.000000\n",
      "--------------------------------------------------\n",
      "YOLO Box 1: (298, 116, 198, 187), YOLO Box 2: (286, 281, 172, 200)\n",
      "IoU (Shapely): 0.0737, IoU (Supervision): 0.0737\n",
      "Difference: 0.000000\n",
      "--------------------------------------------------\n",
      "YOLO Box 1: (310, 325, 177, 150), YOLO Box 2: (209, 262, 179, 199)\n",
      "IoU (Shapely): 0.1602, IoU (Supervision): 0.1602\n",
      "Difference: 0.000000\n",
      "--------------------------------------------------\n",
      "YOLO Box 1: (190, 91, 171, 165), YOLO Box 2: (112, 272, 184, 196)\n",
      "IoU (Shapely): 0.0000, IoU (Supervision): 0.0000\n",
      "Difference: 0.000000\n",
      "--------------------------------------------------\n",
      "YOLO Box 1: (194, 156, 200, 173), YOLO Box 2: (171, 274, 193, 181)\n",
      "IoU (Shapely): 0.1726, IoU (Supervision): 0.1726\n",
      "Difference: 0.000000\n",
      "--------------------------------------------------\n",
      "YOLO Box 1: (232, 223, 152, 150), YOLO Box 2: (188, 253, 151, 155)\n",
      "IoU (Shapely): 0.3986, IoU (Supervision): 0.3986\n",
      "Difference: 0.000000\n",
      "--------------------------------------------------\n",
      "YOLO Box 1: (326, 266, 170, 181), YOLO Box 2: (286, 310, 164, 195)\n",
      "IoU (Shapely): 0.4113, IoU (Supervision): 0.4113\n",
      "Difference: 0.000000\n",
      "--------------------------------------------------\n",
      "YOLO Box 1: (224, 107, 196, 165), YOLO Box 2: (99, 279, 159, 153)\n",
      "IoU (Shapely): 0.0000, IoU (Supervision): 0.0000\n",
      "Difference: 0.000000\n",
      "--------------------------------------------------\n"
     ]
    }
   ],
   "source": [
    "def generate_random_yolo_bbox(img_size=412, min_size=150, max_size=200):\n",
    "    w = random.randint(min_size, max_size)\n",
    "    h = random.randint(min_size, max_size)\n",
    "    x = random.randint(w // 2, img_size - w // 2)\n",
    "    y = random.randint(h // 2, img_size - h // 2)\n",
    "    return (x, y, w, h)\n",
    "\n",
    "def compare_iou(n_samples=10):\n",
    "    for _ in range(n_samples):\n",
    "        box1 = generate_random_yolo_bbox()\n",
    "        box2 = generate_random_yolo_bbox()\n",
    "\n",
    "        iou1 = iou_shapely(box1, box2)\n",
    "        iou2 = iou_supervision(box1, box2)\n",
    "\n",
    "        print(f\"YOLO Box 1: {box1}, YOLO Box 2: {box2}\")\n",
    "        print(f\"IoU (Shapely): {iou1:.4f}, IoU (Supervision): {iou2:.4f}\")\n",
    "        print(f\"Difference: {abs(iou1 - iou2):.6f}\")\n",
    "        print(\"-\" * 50)\n",
    "\n",
    "compare_iou()"
   ]
  },
  {
   "cell_type": "markdown",
   "metadata": {},
   "source": [
    "As we can see above, all the differences are zero. Therefore, both Shapely and Supervision implementations for IoU are equivalent."
   ]
  },
  {
   "cell_type": "markdown",
   "metadata": {},
   "source": [
    "## 2. Write a function to compute Average Precision (AP) "
   ]
  },
  {
   "cell_type": "markdown",
   "metadata": {},
   "source": [
    "### a. Use Pascal VOC 11 point interpolation method to implement the function "
   ]
  },
  {
   "cell_type": "markdown",
   "metadata": {},
   "source": [
    "### b. Use COCO 101-point interpolation method to implement the function"
   ]
  },
  {
   "cell_type": "markdown",
   "metadata": {},
   "source": [
    "### c. Use Area under Precision-Recall Curve (AP) method to implement the function "
   ]
  },
  {
   "cell_type": "markdown",
   "metadata": {},
   "source": [
    "### d. Randomly generate 10 images of size 100x100. Randomly generate 10 ground truth boxes of size 20x20 and 10 predicted boxes of size 20x20 in each image. Assume there is only one class of objects. Compare the AP50 (Average Precision at IoU 0.5) computed by 3 of your methods"
   ]
  }
 ],
 "metadata": {
  "kernelspec": {
   "display_name": "venv",
   "language": "python",
   "name": "python3"
  },
  "language_info": {
   "codemirror_mode": {
    "name": "ipython",
    "version": 3
   },
   "file_extension": ".py",
   "mimetype": "text/x-python",
   "name": "python",
   "nbconvert_exporter": "python",
   "pygments_lexer": "ipython3",
   "version": "3.12.3"
  }
 },
 "nbformat": 4,
 "nbformat_minor": 2
}
