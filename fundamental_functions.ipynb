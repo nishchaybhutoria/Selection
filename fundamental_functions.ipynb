{
 "cells": [
  {
   "cell_type": "markdown",
   "metadata": {},
   "source": [
    "# Implementing the Fundamental Functions"
   ]
  },
  {
   "cell_type": "code",
   "execution_count": 1,
   "metadata": {},
   "outputs": [],
   "source": [
    "import matplotlib.pyplot as plt\n",
    "import numpy as np\n",
    "import random\n",
    "from shapely.geometry import box\n",
    "from sklearn.metrics import auc\n",
    "import supervision as sv\n",
    "\n",
    "%matplotlib inline"
   ]
  },
  {
   "cell_type": "markdown",
   "metadata": {},
   "source": [
    "## 1. IoU (Intersection over Union) between two axis-aligned bounding boxes specified in the Ultralytics YOLO format"
   ]
  },
  {
   "cell_type": "markdown",
   "metadata": {},
   "source": [
    "### Implementing IoU with Shapely and Supervision"
   ]
  },
  {
   "cell_type": "code",
   "execution_count": 2,
   "metadata": {},
   "outputs": [],
   "source": [
    "def yolo_to_xyxy(bbox):\n",
    "    x, y, w, h = bbox\n",
    "    return [x - w / 2, y - h / 2, x + w / 2, y + h / 2]\n",
    "\n",
    "# calculating IoU with shapely\n",
    "def iou_shapely(box1, box2):\n",
    "    # box takes (minx, miny, maxx, maxy), so unpack the values from yolo format\n",
    "    box1_xyxy = box(*yolo_to_xyxy(box1))\n",
    "    box2_xyxy = box(*yolo_to_xyxy(box2))\n",
    "\n",
    "    intersection = box1_xyxy.intersection(box2_xyxy).area\n",
    "    union = box1_xyxy.union(box2_xyxy).area\n",
    "\n",
    "    return intersection / union if union > 0 else 0\n",
    "\n",
    "# calculating IoU with supervision\n",
    "def iou_supervision(box1, box2):\n",
    "    # box_iou_batch takes a batch of boxes as a numpy array\n",
    "    box1_xyxy = np.array([yolo_to_xyxy(box1)])\n",
    "    box2_xyxy = np.array([yolo_to_xyxy(box2)])\n",
    "\n",
    "    return sv.box_iou_batch(box1_xyxy, box2_xyxy)[0][0]"
   ]
  },
  {
   "cell_type": "markdown",
   "metadata": {},
   "source": [
    "### Showing that IoU with Shapely and Supervision are equivalent"
   ]
  },
  {
   "cell_type": "code",
   "execution_count": null,
   "metadata": {},
   "outputs": [
    {
     "name": "stdout",
     "output_type": "stream",
     "text": [
      "YOLO Box 1: (280, 257, 184, 180), YOLO Box 2: (288, 97, 150, 163)\n",
      "IoU (Shapely): 0.0309, IoU (Supervision): 0.0309\n",
      "Difference: 0.000000\n",
      "--------------------------------------------------\n",
      "YOLO Box 1: (277, 113, 152, 170), YOLO Box 2: (140, 311, 170, 172)\n",
      "IoU (Shapely): 0.0000, IoU (Supervision): 0.0000\n",
      "Difference: 0.000000\n",
      "--------------------------------------------------\n",
      "YOLO Box 1: (292, 270, 183, 188), YOLO Box 2: (299, 163, 198, 186)\n",
      "IoU (Shapely): 0.2587, IoU (Supervision): 0.2587\n",
      "Difference: 0.000000\n",
      "--------------------------------------------------\n",
      "YOLO Box 1: (200, 157, 172, 180), YOLO Box 2: (141, 290, 198, 161)\n",
      "IoU (Shapely): 0.0813, IoU (Supervision): 0.0813\n",
      "Difference: 0.000000\n",
      "--------------------------------------------------\n",
      "YOLO Box 1: (176, 326, 187, 156), YOLO Box 2: (333, 109, 154, 188)\n",
      "IoU (Shapely): 0.0000, IoU (Supervision): 0.0000\n",
      "Difference: 0.000000\n",
      "--------------------------------------------------\n",
      "YOLO Box 1: (210, 150, 179, 177), YOLO Box 2: (324, 177, 167, 181)\n",
      "IoU (Shapely): 0.1694, IoU (Supervision): 0.1694\n",
      "Difference: 0.000000\n",
      "--------------------------------------------------\n",
      "YOLO Box 1: (295, 159, 168, 194), YOLO Box 2: (218, 250, 152, 173)\n",
      "IoU (Shapely): 0.1499, IoU (Supervision): 0.1499\n",
      "Difference: 0.000000\n",
      "--------------------------------------------------\n",
      "YOLO Box 1: (280, 303, 161, 197), YOLO Box 2: (155, 120, 150, 172)\n",
      "IoU (Shapely): 0.0008, IoU (Supervision): 0.0008\n",
      "Difference: 0.000000\n",
      "--------------------------------------------------\n",
      "YOLO Box 1: (162, 197, 187, 188), YOLO Box 2: (255, 95, 160, 155)\n",
      "IoU (Shapely): 0.1029, IoU (Supervision): 0.1029\n",
      "Difference: 0.000000\n",
      "--------------------------------------------------\n",
      "YOLO Box 1: (238, 314, 162, 168), YOLO Box 2: (173, 161, 176, 200)\n",
      "IoU (Shapely): 0.0545, IoU (Supervision): 0.0545\n",
      "Difference: 0.000000\n",
      "--------------------------------------------------\n"
     ]
    }
   ],
   "source": [
    "# function to generate random boxes with varying sizes\n",
    "def generate_random_yolo_bbox(img_size=412, min_size=150, max_size=200):\n",
    "    w = random.randint(min_size, max_size)\n",
    "    h = random.randint(min_size, max_size)\n",
    "    x = random.randint(w // 2, img_size - w // 2)\n",
    "    y = random.randint(h // 2, img_size - h // 2)\n",
    "    return (x, y, w, h)\n",
    "\n",
    "# function that compares IoUs of both methods\n",
    "def compare_iou(n_samples=10):\n",
    "    for _ in range(n_samples):\n",
    "        box1 = generate_random_yolo_bbox()\n",
    "        box2 = generate_random_yolo_bbox()\n",
    "\n",
    "        iou1 = iou_shapely(box1, box2)\n",
    "        iou2 = iou_supervision(box1, box2)\n",
    "\n",
    "        print(f\"YOLO Box 1: {box1}, YOLO Box 2: {box2}\")\n",
    "        print(f\"IoU (Shapely): {iou1:.4f}, IoU (Supervision): {iou2:.4f}\")\n",
    "        print(f\"Difference: {abs(iou1 - iou2):.6f}\")\n",
    "        print(\"-\" * 50)\n",
    "\n",
    "compare_iou()"
   ]
  },
  {
   "cell_type": "markdown",
   "metadata": {},
   "source": [
    "As we can see above, all the differences are zero. Therefore, both Shapely and Supervision implementations for IoU are equivalent."
   ]
  },
  {
   "cell_type": "markdown",
   "metadata": {},
   "source": [
    "## 2. Write a function to compute Average Precision (AP) "
   ]
  },
  {
   "cell_type": "markdown",
   "metadata": {},
   "source": [
    "### a. Use Pascal VOC 11 point interpolation method to implement the function "
   ]
  },
  {
   "cell_type": "code",
   "execution_count": 4,
   "metadata": {},
   "outputs": [],
   "source": [
    "def pascal_voc_ap(recalls, precisions):\n",
    "    ap = 0\n",
    "    for t in np.linspace(0, 1, 11):\n",
    "        ap += np.max(precisions[recalls >= t]) if len(precisions[recalls >= t]) > 0 else 0\n",
    "    return ap / np.float32(11)"
   ]
  },
  {
   "cell_type": "markdown",
   "metadata": {},
   "source": [
    "### b. Use COCO 101-point interpolation method to implement the function"
   ]
  },
  {
   "cell_type": "code",
   "execution_count": 5,
   "metadata": {},
   "outputs": [],
   "source": [
    "def coco_ap(recalls, precisions):\n",
    "    ap = 0\n",
    "    for t in np.linspace(0, 1, 101):\n",
    "        ap += np.max(precisions[recalls >= t]) if len(precisions[recalls >= t]) > 0 else 0\n",
    "    return ap / np.float32(101)"
   ]
  },
  {
   "cell_type": "markdown",
   "metadata": {},
   "source": [
    "### c. Use Area under Precision-Recall Curve (AP) method to implement the function "
   ]
  },
  {
   "cell_type": "code",
   "execution_count": 6,
   "metadata": {},
   "outputs": [],
   "source": [
    "def area_under_curve(recalls, precisions):\n",
    "    return auc(recalls, precisions)"
   ]
  },
  {
   "cell_type": "markdown",
   "metadata": {},
   "source": [
    "### d. Randomly generate 10 images of size 100x100. Randomly generate 10 ground truth boxes of size 20x20 and 10 predicted boxes of size 20x20 in each image. Assume there is only one class of objects. Compare the AP50 (Average Precision at IoU 0.5) computed by 3 of your methods"
   ]
  },
  {
   "cell_type": "code",
   "execution_count": null,
   "metadata": {},
   "outputs": [
    {
     "name": "stdout",
     "output_type": "stream",
     "text": [
      "[[(82, 56, 20, 20), (60, 22, 20, 20), (40, 17, 20, 20), (17, 87, 20, 20), (56, 38, 20, 20), (78, 86, 20, 20), (12, 45, 20, 20), (15, 83, 20, 20), (35, 88, 20, 20), (18, 59, 20, 20)], [(66, 83, 20, 20), (67, 16, 20, 20), (78, 48, 20, 20), (75, 38, 20, 20), (74, 84, 20, 20), (47, 80, 20, 20), (15, 51, 20, 20), (43, 88, 20, 20), (61, 11, 20, 20), (89, 17, 20, 20)], [(79, 20, 20, 20), (11, 82, 20, 20), (25, 68, 20, 20), (66, 31, 20, 20), (53, 18, 20, 20), (41, 10, 20, 20), (39, 79, 20, 20), (69, 55, 20, 20), (68, 81, 20, 20), (14, 78, 20, 20)], [(56, 12, 20, 20), (18, 74, 20, 20), (76, 75, 20, 20), (48, 44, 20, 20), (25, 60, 20, 20), (80, 86, 20, 20), (21, 75, 20, 20), (15, 62, 20, 20), (46, 38, 20, 20), (49, 10, 20, 20)], [(66, 89, 20, 20), (73, 12, 20, 20), (82, 32, 20, 20), (64, 42, 20, 20), (66, 71, 20, 20), (17, 67, 20, 20), (73, 34, 20, 20), (83, 63, 20, 20), (73, 32, 20, 20), (11, 47, 20, 20)], [(53, 30, 20, 20), (16, 36, 20, 20), (49, 53, 20, 20), (36, 53, 20, 20), (46, 39, 20, 20), (20, 59, 20, 20), (88, 15, 20, 20), (35, 34, 20, 20), (71, 25, 20, 20), (76, 51, 20, 20)], [(83, 48, 20, 20), (40, 60, 20, 20), (59, 38, 20, 20), (39, 25, 20, 20), (40, 19, 20, 20), (48, 73, 20, 20), (44, 60, 20, 20), (24, 43, 20, 20), (62, 11, 20, 20), (32, 88, 20, 20)], [(63, 35, 20, 20), (85, 31, 20, 20), (38, 69, 20, 20), (83, 42, 20, 20), (66, 47, 20, 20), (39, 43, 20, 20), (39, 46, 20, 20), (57, 55, 20, 20), (34, 78, 20, 20), (39, 17, 20, 20)], [(57, 70, 20, 20), (19, 45, 20, 20), (55, 49, 20, 20), (20, 46, 20, 20), (20, 35, 20, 20), (12, 72, 20, 20), (61, 67, 20, 20), (43, 13, 20, 20), (76, 11, 20, 20), (50, 18, 20, 20)], [(10, 79, 20, 20), (64, 17, 20, 20), (70, 48, 20, 20), (35, 71, 20, 20), (55, 68, 20, 20), (19, 83, 20, 20), (82, 70, 20, 20), (47, 38, 20, 20), (52, 67, 20, 20), (82, 62, 20, 20)]]\n",
      "[[(31, 75, 20, 20, 0.08258651829471653), (17, 59, 20, 20, 0.5431410814586719), (29, 70, 20, 20, 0.9252692639288455), (17, 68, 20, 20, 0.9346269933843494), (20, 16, 20, 20, 0.4078350419840553), (38, 70, 20, 20, 0.5808037846630824), (42, 61, 20, 20, 0.04741625819654771), (83, 60, 20, 20, 0.6129476106120365), (15, 73, 20, 20, 0.6286107405764793), (61, 14, 20, 20, 0.3562948095793024)], [(78, 43, 20, 20, 0.3322420368393877), (43, 58, 20, 20, 0.9001011985935539), (19, 21, 20, 20, 0.6496808032986358), (78, 11, 20, 20, 0.7714890287124311), (61, 39, 20, 20, 0.79318732384475), (85, 66, 20, 20, 0.10376855546646835), (86, 69, 20, 20, 0.35610009637818163), (19, 39, 20, 20, 0.6255005256409639), (12, 22, 20, 20, 0.5075590643792), (77, 45, 20, 20, 0.4856484150782656)], [(20, 62, 20, 20, 0.2810634417589529), (39, 10, 20, 20, 0.21021905034481014), (17, 11, 20, 20, 0.3770959988982573), (44, 51, 20, 20, 0.06306533260776737), (87, 81, 20, 20, 0.9229001958108086), (66, 77, 20, 20, 0.5122484358859085), (77, 56, 20, 20, 0.8861631411633288), (70, 46, 20, 20, 0.6877441881270887), (74, 28, 20, 20, 0.08041699505828548), (23, 56, 20, 20, 0.3363692369391049)], [(42, 54, 20, 20, 0.6524611177702053), (54, 52, 20, 20, 0.3299290410784197), (11, 33, 20, 20, 0.6794412458754581), (59, 50, 20, 20, 0.7050989002587129), (22, 49, 20, 20, 0.6860881460167996), (66, 22, 20, 20, 0.6910611909385708), (19, 28, 20, 20, 0.9541147829316817), (27, 90, 20, 20, 0.10463420887820352), (10, 13, 20, 20, 0.10880147652757644), (43, 37, 20, 20, 0.872041570782682)], [(57, 14, 20, 20, 0.32336125810348826), (65, 37, 20, 20, 0.7656907941569566), (71, 18, 20, 20, 0.11879038575517809), (58, 56, 20, 20, 0.5662102815142657), (69, 81, 20, 20, 0.04389678858436774), (85, 23, 20, 20, 0.1877840010451648), (84, 61, 20, 20, 0.007014159467531811), (36, 18, 20, 20, 0.1611568815447455), (13, 62, 20, 20, 0.3431760381122916), (58, 88, 20, 20, 0.06827131775222972)], [(15, 70, 20, 20, 0.07234725397586605), (83, 86, 20, 20, 0.7656628808025379), (49, 11, 20, 20, 0.5406213162439509), (42, 82, 20, 20, 0.601259735123423), (38, 62, 20, 20, 0.49143619273117656), (10, 64, 20, 20, 0.21603926938179063), (55, 34, 20, 20, 0.3563605897006784), (70, 66, 20, 20, 0.8017868067989703), (51, 87, 20, 20, 0.32203088161037596), (10, 50, 20, 20, 0.06346707805694607)], [(17, 36, 20, 20, 0.5994462293886145), (36, 65, 20, 20, 0.7664070018740338), (44, 21, 20, 20, 0.28520865831206943), (25, 73, 20, 20, 0.718646325387769), (71, 67, 20, 20, 0.8633628382492226), (41, 51, 20, 20, 0.7159191705096696), (83, 28, 20, 20, 0.4968584080478484), (55, 61, 20, 20, 0.0699766357359497), (70, 52, 20, 20, 0.995448147973588), (79, 61, 20, 20, 0.2607586395980136)], [(40, 16, 20, 20, 0.7048717050142622), (67, 60, 20, 20, 0.6313377588795723), (50, 52, 20, 20, 0.45412777529088144), (15, 82, 20, 20, 0.25967494460054774), (58, 15, 20, 20, 0.9348556764001433), (39, 77, 20, 20, 0.24774087898093677), (90, 19, 20, 20, 0.14526329896187784), (78, 86, 20, 20, 0.7722647050904063), (54, 68, 20, 20, 0.635565411494808), (21, 12, 20, 20, 0.12077975559518228)], [(59, 50, 20, 20, 0.5732200350006382), (83, 14, 20, 20, 0.47540801261970744), (53, 88, 20, 20, 0.5257582584377556), (18, 16, 20, 20, 0.8776689711798373), (10, 87, 20, 20, 0.2989853434211631), (17, 60, 20, 20, 0.4216764988905467), (68, 20, 20, 20, 0.5113501749534296), (18, 14, 20, 20, 0.7319694574946273), (64, 55, 20, 20, 0.39623971204148156), (35, 56, 20, 20, 0.6298928225568692)], [(68, 25, 20, 20, 0.04425631339837044), (33, 79, 20, 20, 0.9027070827878176), (81, 53, 20, 20, 0.32186597394125704), (13, 47, 20, 20, 0.8603993168476131), (52, 52, 20, 20, 0.2858417910163009), (32, 87, 20, 20, 0.548319619092508), (42, 62, 20, 20, 0.40000336405162484), (83, 50, 20, 20, 0.38974787564283775), (13, 27, 20, 20, 0.18560022977665602), (21, 30, 20, 20, 0.020538828886964677)]]\n",
      "[0.01 0.01 0.01 0.02 0.03 0.04 0.05 0.05 0.06 0.06 0.07 0.07 0.07 0.08\n",
      " 0.09 0.09 0.1  0.11 0.12 0.12 0.12 0.13 0.14 0.15 0.16 0.16 0.16 0.17\n",
      " 0.17 0.17 0.17 0.18 0.19 0.19 0.2  0.21 0.22 0.22 0.22 0.22 0.23 0.24\n",
      " 0.24 0.24 0.24 0.25 0.25 0.26 0.26 0.26 0.27 0.28 0.29 0.3  0.31 0.31\n",
      " 0.32 0.33 0.34 0.34 0.35 0.36 0.37 0.38 0.39 0.39 0.39 0.4  0.4  0.41\n",
      " 0.42 0.43 0.44 0.44 0.44 0.44 0.45 0.45 0.46 0.47 0.47 0.47 0.47 0.47\n",
      " 0.47 0.47 0.48 0.48 0.48 0.49 0.5  0.51 0.52 0.52 0.52 0.52 0.53 0.53\n",
      " 0.53 0.54]\n",
      "[1.         0.5        0.33333333 0.5        0.6        0.66666667\n",
      " 0.71428571 0.625      0.66666667 0.6        0.63636364 0.58333333\n",
      " 0.53846154 0.57142857 0.6        0.5625     0.58823529 0.61111111\n",
      " 0.63157895 0.6        0.57142857 0.59090909 0.60869565 0.625\n",
      " 0.64       0.61538462 0.59259259 0.60714286 0.5862069  0.56666667\n",
      " 0.5483871  0.5625     0.57575758 0.55882353 0.57142857 0.58333333\n",
      " 0.59459459 0.57894737 0.56410256 0.55       0.56097561 0.57142857\n",
      " 0.55813953 0.54545455 0.53333333 0.54347826 0.53191489 0.54166667\n",
      " 0.53061224 0.52       0.52941176 0.53846154 0.54716981 0.55555556\n",
      " 0.56363636 0.55357143 0.56140351 0.56896552 0.57627119 0.56666667\n",
      " 0.57377049 0.58064516 0.58730159 0.59375    0.6        0.59090909\n",
      " 0.58208955 0.58823529 0.57971014 0.58571429 0.5915493  0.59722222\n",
      " 0.60273973 0.59459459 0.58666667 0.57894737 0.58441558 0.57692308\n",
      " 0.58227848 0.5875     0.58024691 0.57317073 0.56626506 0.55952381\n",
      " 0.55294118 0.54651163 0.55172414 0.54545455 0.53932584 0.54444444\n",
      " 0.54945055 0.55434783 0.55913978 0.55319149 0.54736842 0.54166667\n",
      " 0.54639175 0.54081633 0.53535354 0.54      ]\n",
      "AP50 (VOC 11-point interpolation): 0.3643053602753117\n",
      "AP50 (COCO 101-point interpolation): 0.34080351926680075\n",
      "AP50 (Area Under PR Curve): 0.3042650500236363\n"
     ]
    }
   ],
   "source": [
    "# fixed parameters\n",
    "img_cnt = 10\n",
    "boxes_per_img = 10\n",
    "img_size = 100\n",
    "box_size = 20\n",
    "\n",
    "ground_truth_boxes = []\n",
    "predicted_boxes = []\n",
    "\n",
    "# function that generates a random box of fixed size as specified\n",
    "def generate_fixed_yolo_bbox(img_size=100, box_size=20):\n",
    "    margin = box_size // 2\n",
    "    x = random.randint(margin, img_size - margin)\n",
    "    y = random.randint(margin, img_size - margin)\n",
    "    return (x, y, box_size, box_size)\n",
    "\n",
    "# generate ground truths and predictions with random confidence for each image\n",
    "for _ in range(img_cnt):\n",
    "    ground_truth_cur = [generate_fixed_yolo_bbox(img_size, box_size) for _ in range(boxes_per_img)]\n",
    "    predicted_cur = [generate_fixed_yolo_bbox(img_size, box_size) + (random.random(),) for _ in range(boxes_per_img)] # add random number to simulate prediction confidence\n",
    "    ground_truth_boxes.append(ground_truth_cur)\n",
    "    predicted_boxes.append(predicted_cur)\n",
    "\n",
    "# print(ground_truth_boxes)\n",
    "# print(predicted_boxes)\n",
    "\n",
    "def compute_pr(ground_truth_boxes, predicted_boxes, iou_threshold=0.5):\n",
    "    ans = []\n",
    "    gt_cnt = 0\n",
    "\n",
    "    for ground_truth, predictions in zip(ground_truth_boxes, predicted_boxes):\n",
    "        gt_cnt += len(ground_truth)\n",
    "        matched = [False] * len(ground_truth)\n",
    "        # sort all predictions in decreasing order of confidence\n",
    "        sorted_predictions = sorted(predictions, key=lambda x: x[4], reverse=True)\n",
    "        for prediction in sorted_predictions:\n",
    "            pred = prediction[:4]\n",
    "            max_iou, best_gt = -1, -1\n",
    "            for i, gt in enumerate(ground_truth):\n",
    "                if matched[i]:\n",
    "                    continue # skip if already matched\n",
    "                iou = iou_supervision(yolo_to_xyxy(pred), yolo_to_xyxy(gt))\n",
    "                if iou > max_iou:\n",
    "                    max_iou = iou\n",
    "                    best_gt = i\n",
    "            if max_iou >= iou_threshold and best_gt != -1: # match if best and IoU > threshold\n",
    "                matched[best_gt] = True\n",
    "                ans.append([prediction[4], 1]) # 1 means true positive\n",
    "            else:\n",
    "                ans.append([prediction[4], 0]) # 0 means false positive\n",
    "\n",
    "    ans = sorted(ans, key=lambda x: x[0], reverse=True)\n",
    "    \n",
    "    tp = np.array([x[1] for x in ans])\n",
    "\n",
    "    cum_tp = np.cumsum(tp)\n",
    "    cum_fp = np.cumsum(1 - tp)\n",
    "    recalls = cum_tp / gt_cnt # recall = TP / (TP + FN) = TP / total ground truths\n",
    "    precisions = cum_tp / (cum_tp + cum_fp) # precision = TP / (TP + FP) = TP / total predictions\n",
    "\n",
    "    return recalls, precisions\n",
    "\n",
    "recalls, precisions = compute_pr(ground_truth_boxes, predicted_boxes, iou_threshold=0.5)\n",
    "\n",
    "print(recalls)\n",
    "print(precisions)\n",
    "\n",
    "ap_voc = pascal_voc_ap(recalls, precisions)\n",
    "ap_coco = coco_ap(recalls, precisions)\n",
    "ap_auc = area_under_curve(recalls, precisions)\n",
    "\n",
    "print(\"AP50 (VOC 11-point interpolation):\", ap_voc)\n",
    "print(\"AP50 (COCO 101-point interpolation):\", ap_coco)\n",
    "print(\"AP50 (Area Under PR Curve):\", ap_auc)"
   ]
  }
 ],
 "metadata": {
  "kernelspec": {
   "display_name": "venv",
   "language": "python",
   "name": "python3"
  },
  "language_info": {
   "codemirror_mode": {
    "name": "ipython",
    "version": 3
   },
   "file_extension": ".py",
   "mimetype": "text/x-python",
   "name": "python",
   "nbconvert_exporter": "python",
   "pygments_lexer": "ipython3",
   "version": "3.12.3"
  }
 },
 "nbformat": 4,
 "nbformat_minor": 2
}
