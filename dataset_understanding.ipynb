{
 "cells": [
  {
   "cell_type": "markdown",
   "metadata": {},
   "source": [
    "# Data Exploration and Understanding"
   ]
  },
  {
   "cell_type": "code",
   "execution_count": 1,
   "metadata": {},
   "outputs": [],
   "source": [
    "import matplotlib.pyplot as plt\n",
    "import numpy as np\n",
    "import os\n",
    "import pandas as pd\n",
    "\n",
    "%matplotlib inline"
   ]
  },
  {
   "cell_type": "markdown",
   "metadata": {},
   "source": [
    "## Inspecting the Data"
   ]
  },
  {
   "cell_type": "code",
   "execution_count": 2,
   "metadata": {},
   "outputs": [
    {
     "name": "stdout",
     "output_type": "stream",
     "text": [
      "Image counts: 2553\n",
      "Label counts: 2542\n"
     ]
    }
   ],
   "source": [
    "IMAGE_PATH = 'image_chips_native'\n",
    "LABEL_PATH = 'labels/labels_native'\n",
    "PATH = os.getcwd()\n",
    "\n",
    "images = os.listdir(IMAGE_PATH)\n",
    "labels = os.listdir(LABEL_PATH)\n",
    "\n",
    "print(f'Image counts: {len(images)}')\n",
    "print(f'Label counts: {len(labels)}')"
   ]
  },
  {
   "cell_type": "markdown",
   "metadata": {},
   "source": [
    "As we can see above, there's a mismatch in the count of images and labels. Perhaps some images don't have any solar panel objects? Let us confirm this."
   ]
  },
  {
   "cell_type": "code",
   "execution_count": 3,
   "metadata": {},
   "outputs": [
    {
     "name": "stdout",
     "output_type": "stream",
     "text": [
      "solarpanels_native_1__x0_5472_y0_12892_dxdy_416(1).txt does not have a label\n",
      "solarpanels_native_1__x0_7962_y0_8558_dxdy_416(1).txt does not have a label\n",
      "solarpanels_native_1__x0_7934_y0_8341_dxdy_416(1).txt does not have a label\n",
      "solarpanels_native_1__x0_7986_y0_11313_dxdy_416(1).txt does not have a label\n",
      "solarpanels_native_1__x0_7958_y0_8403_dxdy_416(1).txt does not have a label\n",
      "solarpanels_native_1__x0_7957_y0_8387_dxdy_416(1).txt does not have a label\n",
      "solarpanels_native_1__x0_7934_y0_8347_dxdy_416(1).txt does not have a label\n",
      "solarpanels_native_1__x0_7937_y0_11298_dxdy_416(1).txt does not have a label\n",
      "solarpanels_native_1__x0_7997_y0_10765_dxdy_416(1).txt does not have a label\n",
      "solarpanels_native_1__x0_7_y0_6959_dxdy_416(1).txt does not have a label\n",
      "solarpanels_native_1__x0_7999_y0_8765_dxdy_416(1).txt does not have a label\n",
      "11 images do not have labels\n"
     ]
    }
   ],
   "source": [
    "no_label_cnt = 0\n",
    "for i in images:\n",
    "    filename = i[:-4] + '.txt'\n",
    "    if filename not in labels:\n",
    "        print(f'{filename} does not have a label')\n",
    "        no_label_cnt += 1\n",
    "\n",
    "print(f'{no_label_cnt} images do not have labels')"
   ]
  },
  {
   "cell_type": "markdown",
   "metadata": {},
   "source": [
    "Let us also check if some labels do not have corresponding images."
   ]
  },
  {
   "cell_type": "code",
   "execution_count": 4,
   "metadata": {},
   "outputs": [
    {
     "name": "stdout",
     "output_type": "stream",
     "text": [
      "0 labels do not have images\n"
     ]
    }
   ],
   "source": [
    "no_image_cnt = 0\n",
    "for i in labels:\n",
    "    filename = i[:-4] + '.tif'\n",
    "    if filename not in images:\n",
    "        print(f'{filename} does not have an image')\n",
    "        no_image_cnt += 1\n",
    "\n",
    "print(f'{no_image_cnt} labels do not have images')"
   ]
  },
  {
   "cell_type": "markdown",
   "metadata": {},
   "source": [
    "An interesting observation is that all solar panels without labels end with (1), which indicates that these are duplicate filenames. Let us see if there are corresponding images without the (1) suffix."
   ]
  },
  {
   "cell_type": "code",
   "execution_count": 5,
   "metadata": {},
   "outputs": [
    {
     "name": "stdout",
     "output_type": "stream",
     "text": [
      "Image has original filename: True\n",
      "Image has original filename: True\n",
      "Image has original filename: True\n",
      "Image has original filename: True\n",
      "Image has original filename: True\n",
      "Image has original filename: True\n",
      "Image has original filename: True\n",
      "Image has original filename: True\n",
      "Image has original filename: True\n",
      "Image has original filename: True\n",
      "Image has original filename: True\n"
     ]
    }
   ],
   "source": [
    "for i in images:\n",
    "    filename = i[:-4]\n",
    "    if filename[-3:] == '(1)':\n",
    "        original_filename = filename[:-3] + '.tif'\n",
    "        print(f'Image has original filename: {original_filename in images}')"
   ]
  },
  {
   "cell_type": "markdown",
   "metadata": {},
   "source": [
    "All of them do! We can safely remove the duplicate files now."
   ]
  },
  {
   "cell_type": "code",
   "execution_count": 6,
   "metadata": {},
   "outputs": [
    {
     "name": "stdout",
     "output_type": "stream",
     "text": [
      "Removing /home/nishuz/Desktop/College/SRIP/Selection/image_chips_native/solarpanels_native_1__x0_5472_y0_12892_dxdy_416(1).tif\n",
      "Removing /home/nishuz/Desktop/College/SRIP/Selection/image_chips_native/solarpanels_native_1__x0_7962_y0_8558_dxdy_416(1).tif\n",
      "Removing /home/nishuz/Desktop/College/SRIP/Selection/image_chips_native/solarpanels_native_1__x0_7934_y0_8341_dxdy_416(1).tif\n",
      "Removing /home/nishuz/Desktop/College/SRIP/Selection/image_chips_native/solarpanels_native_1__x0_7986_y0_11313_dxdy_416(1).tif\n",
      "Removing /home/nishuz/Desktop/College/SRIP/Selection/image_chips_native/solarpanels_native_1__x0_7958_y0_8403_dxdy_416(1).tif\n",
      "Removing /home/nishuz/Desktop/College/SRIP/Selection/image_chips_native/solarpanels_native_1__x0_7957_y0_8387_dxdy_416(1).tif\n",
      "Removing /home/nishuz/Desktop/College/SRIP/Selection/image_chips_native/solarpanels_native_1__x0_7934_y0_8347_dxdy_416(1).tif\n",
      "Removing /home/nishuz/Desktop/College/SRIP/Selection/image_chips_native/solarpanels_native_1__x0_7937_y0_11298_dxdy_416(1).tif\n",
      "Removing /home/nishuz/Desktop/College/SRIP/Selection/image_chips_native/solarpanels_native_1__x0_7997_y0_10765_dxdy_416(1).tif\n",
      "Removing /home/nishuz/Desktop/College/SRIP/Selection/image_chips_native/solarpanels_native_1__x0_7_y0_6959_dxdy_416(1).tif\n",
      "Removing /home/nishuz/Desktop/College/SRIP/Selection/image_chips_native/solarpanels_native_1__x0_7999_y0_8765_dxdy_416(1).tif\n"
     ]
    }
   ],
   "source": [
    "for i in images:\n",
    "    filename = i[:-4]\n",
    "    if filename[-3:] == '(1)':\n",
    "        print(f'Removing {os.path.join(PATH, IMAGE_PATH, i)}')\n",
    "        os.remove(os.path.join(PATH, IMAGE_PATH, i))"
   ]
  },
  {
   "cell_type": "markdown",
   "metadata": {},
   "source": [
    "## 1. Dataset Statistics"
   ]
  },
  {
   "cell_type": "markdown",
   "metadata": {},
   "source": [
    "### a. How many instances of solar panels are present in the dataset?\n",
    "\n",
    "To answer this question, we simply need to sum up the number of rows in each file, since each row corresponds to an instance of a solar panel."
   ]
  },
  {
   "cell_type": "code",
   "execution_count": 7,
   "metadata": {},
   "outputs": [
    {
     "name": "stdout",
     "output_type": "stream",
     "text": [
      "There are 29625 instances of solar panels.\n"
     ]
    }
   ],
   "source": [
    "solar_panel_count = 0\n",
    "\n",
    "for label in labels:\n",
    "    filepath = os.path.join(PATH, LABEL_PATH, label)\n",
    "    with open(filepath) as f:\n",
    "        solar_panel_count += len(f.readlines())\n",
    "\n",
    "print(f'There are {solar_panel_count} instances of solar panels.')"
   ]
  },
  {
   "cell_type": "markdown",
   "metadata": {},
   "source": [
    "### b. Compute and show the value counts of labels per image. E.g., X images have 0 labels, Y images have 1 label, … and so on.\n",
    "\n",
    "To compute and show the value counts of labels per image, we can work with a similar approach. In each label file, each row corresponds to a label. We can maintain a dictionary that stores the number of files with a certain number of labels."
   ]
  },
  {
   "cell_type": "code",
   "execution_count": 8,
   "metadata": {},
   "outputs": [
    {
     "data": {
      "image/png": "[encoded data removed]",
      "text/plain": [
       "<Figure size 640x480 with 1 Axes>"
      ]
     },
     "metadata": {},
     "output_type": "display_data"
    }
   ],
   "source": [
    "value_counts = {}\n",
    "\n",
    "for label in labels:\n",
    "    filepath = os.path.join(PATH, LABEL_PATH, label)\n",
    "    with open(filepath) as f:\n",
    "        label_count = len(f.readlines())\n",
    "        value_counts[label_count] = value_counts.get(label_count, 0) + 1\n",
    "\n",
    "num_labels = sorted(value_counts.keys())\n",
    "values = [value_counts[k] for k in num_labels]\n",
    "\n",
    "plt.bar(num_labels, values)\n",
    "plt.xlabel('Number of Labels')\n",
    "plt.ylabel('Count of Images')\n",
    "plt.title('Value Counts of Labels Per Image')\n",
    "plt.show()"
   ]
  },
  {
   "cell_type": "code",
   "execution_count": 9,
   "metadata": {},
   "outputs": [
    {
     "name": "stdout",
     "output_type": "stream",
     "text": [
      "[1, 2, 3, 4, 5, 6, 7, 8, 9, 10, 11, 12, 13, 14, 15, 16, 17, 18, 19, 20, 21, 22, 23, 24, 25, 26, 27, 28, 29, 30, 31, 32, 33, 34, 35, 36, 37, 38, 39, 40, 41, 42, 43, 44, 45, 46, 47, 48, 49, 50, 51, 52, 53, 54, 55, 56, 58, 59, 60, 61, 62, 63, 64, 65, 66, 67, 71, 72, 73, 74, 75, 76, 77, 78]\n",
      "[81, 167, 221, 218, 217, 189, 170, 184, 169, 121, 97, 84, 69, 49, 46, 41, 36, 25, 29, 14, 4, 1, 4, 2, 4, 3, 5, 5, 15, 20, 8, 7, 13, 19, 10, 6, 17, 13, 6, 9, 10, 12, 11, 4, 2, 5, 9, 3, 5, 6, 9, 16, 4, 6, 1, 1, 3, 2, 2, 1, 6, 3, 1, 3, 4, 1, 1, 1, 1, 5, 1, 2, 2, 1]\n"
     ]
    }
   ],
   "source": [
    "print(num_labels)\n",
    "print(values)"
   ]
  },
  {
   "cell_type": "markdown",
   "metadata": {},
   "source": [
    "From the above values, we can infer that most images have 1-10 labels"
   ]
  },
  {
   "cell_type": "markdown",
   "metadata": {},
   "source": [
    "## 2. Calculate the statistics of the area of solar panels in meters"
   ]
  },
  {
   "cell_type": "markdown",
   "metadata": {},
   "source": [
    "### a. What method was used to compute the area (in meters) for a single instance?"
   ]
  },
  {
   "cell_type": "markdown",
   "metadata": {},
   "source": [
    "As a quick sanity check, let us confirm whether every filename beings with \"solarpanels_native_\" so that we can easily obtain the tile type. "
   ]
  },
  {
   "cell_type": "code",
   "execution_count": 10,
   "metadata": {},
   "outputs": [],
   "source": [
    "for label in labels:\n",
    "    assert label.startswith('solarpanels_native_')"
   ]
  },
  {
   "cell_type": "markdown",
   "metadata": {},
   "source": [
    "Since the assertions did not throw errors, all filenames are valid and encode a tile type."
   ]
  },
  {
   "cell_type": "markdown",
   "metadata": {},
   "source": [
    "The area (in square meters) of a single solar panel is computed using the bounding box dimensions provided in the label files by the below these steps:  \n",
    "\n",
    "#### 1. Extract Normalized Bounding Box Dimensions\n",
    "Each label entry contains five values: `category`, `x-center`, `y-center`, `x-width`, and `y-width`.\n",
    "\n",
    "The `x-width` and `y-width` represent the width and height of the solar panel, normalized by the image chip size.  \n",
    "\n",
    "- For native resolution labels, the image chip size is 416 x 416 pixels.  \n",
    "- For HD resolution labels, the image chip size is 832 x 832 pixels.\n",
    "\n",
    "Since we have been asked in the task explicitly to use 31 cm native resolution images with 416 x 416 sizes, we will disregard HD resolution labels from now.\n",
    "\n",
    "#### 2. Convert Normalized Dimensions to Pixels\n",
    "Since width and height are given in a normalized format (ranging from 0 to 1), they must be converted to pixels by multiplying by the chip size.  \n",
    "\n",
    "- `x-width (pixels) = x-width (normalized) * 416`  \n",
    "- `y-width (pixels) = y-width (normalized) * 416`  \n",
    "\n",
    "#### 3. Convert Pixel Dimensions to Meters\n",
    "Each pixel represents **0.31 meters** in the real world, based on the geotransform provided in the dataset.  \n",
    "\n",
    "- `x-width (meters) = x-width (pixels) * 0.31`  \n",
    "- `y-width (meters) = y-width (pixels) * 0.31`  \n",
    "\n",
    "#### 4. Compute the Area\n",
    "\n",
    "Since the bounding box forms a rectangle, the area is computed as:  \n",
    "\n",
    "$$\n",
    "\\text{Area} \\ (m^2) = \\text{x-width} \\ (m) \\times \\text{y-width} \\ (m)\n",
    "$$  \n",
    "\n",
    "Reference: [GDAL documentation: Geotransform tutorial](https://gdal.org/en/stable/tutorials/geotransforms_tut.html)"
   ]
  },
  {
   "cell_type": "markdown",
   "metadata": {},
   "source": [
    "### b. What is the mean area and standard deviation?"
   ]
  },
  {
   "cell_type": "code",
   "execution_count": 22,
   "metadata": {},
   "outputs": [
    {
     "name": "stdout",
     "output_type": "stream",
     "text": [
      "Mean area: 191.51782786497895 square meters\n",
      "Standard deviation: 630.7003355500087 square meters\n"
     ]
    }
   ],
   "source": [
    "areas = []\n",
    "\n",
    "def solar_panel_area(solar_panel_obj):\n",
    "    category, x_center, y_center, x_width, y_width = map(float, solar_panel_obj.split())\n",
    "    x = x_width * 416 * 0.31\n",
    "    y = y_width * 416 * 0.31\n",
    "    return x * y\n",
    "\n",
    "for label in labels:\n",
    "    filepath = os.path.join(PATH, LABEL_PATH, label)\n",
    "    with open(filepath) as f:\n",
    "        areas.extend(solar_panel_area(line) for line in f.readlines())\n",
    "\n",
    "areas = np.array(areas)\n",
    "\n",
    "print(f'Mean area: {np.mean(areas)} square meters')\n",
    "print(f'Standard deviation: {np.std(areas)} square meters')"
   ]
  },
  {
   "cell_type": "markdown",
   "metadata": {},
   "source": [
    "### c. Plot the histogram of areas. What do you observe?"
   ]
  },
  {
   "cell_type": "code",
   "execution_count": 31,
   "metadata": {},
   "outputs": [
    {
     "data": {
      "image/png": "[encoded data removed]",
      "text/plain": [
       "<Figure size 640x480 with 1 Axes>"
      ]
     },
     "metadata": {},
     "output_type": "display_data"
    }
   ],
   "source": [
    "plt.hist(areas, bins=100, edgecolor='black', alpha=0.6)\n",
    "plt.xlabel('Solar Panel Area (square meters)')\n",
    "plt.ylabel('Frequency')\n",
    "plt.title('Distribution of Solar Panel Areas')\n",
    "plt.grid(True)\n",
    "plt.show()"
   ]
  },
  {
   "cell_type": "code",
   "execution_count": 33,
   "metadata": {},
   "outputs": [
    {
     "name": "stdout",
     "output_type": "stream",
     "text": [
      "Max area: 12177.407600000002 square meters\n"
     ]
    }
   ],
   "source": [
    "print(f'Max area: {np.max(areas)} square meters')"
   ]
  },
  {
   "cell_type": "markdown",
   "metadata": {},
   "source": [
    "From the above histogram, it is clear that most areas are small. However, there is an unusually long tail towards the right, which suggests the presence of extreme outliers. We saw that the average area is ~192 square meters, but as displayed above, the maximum area is 12177 square meters: which is clearly an outlier and is much greater than the mean area."
   ]
  }
 ],
 "metadata": {
  "kernelspec": {
   "display_name": "venv",
   "language": "python",
   "name": "python3"
  },
  "language_info": {
   "codemirror_mode": {
    "name": "ipython",
    "version": 3
   },
   "file_extension": ".py",
   "mimetype": "text/x-python",
   "name": "python",
   "nbconvert_exporter": "python",
   "pygments_lexer": "ipython3",
   "version": "3.12.3"
  }
 },
 "nbformat": 4,
 "nbformat_minor": 2
}
